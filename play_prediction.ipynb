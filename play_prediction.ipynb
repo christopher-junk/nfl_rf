{
 "cells": [
  {
   "cell_type": "code",
   "execution_count": 77,
   "metadata": {},
   "outputs": [],
   "source": [
    "import pandas as pd \n",
    "import numpy as np \n",
    "import nfl_data_py as nfl \n",
    "from IPython.display import display, HTML"
   ]
  },
  {
   "cell_type": "code",
   "execution_count": 78,
   "metadata": {},
   "outputs": [
    {
     "name": "stdout",
     "output_type": "stream",
     "text": [
      "2023 done.\n",
      "Downcasting floats.\n"
     ]
    }
   ],
   "source": [
    "plays = nfl.import_pbp_data([2023])"
   ]
  },
  {
   "cell_type": "code",
   "execution_count": 79,
   "metadata": {},
   "outputs": [],
   "source": [
    "#Select the fields that I am interested in using for predicting/feature engineering\n",
    "fields = ['play_type_nfl', 'play_type'\n",
    "            , 'week'\n",
    "              , 'half_seconds_remaining', 'game_seconds_remaining', 'game_half'\n",
    "              , 'play_id', 'drive', 'game_id'\n",
    "              , 'posteam', 'defteam'\n",
    "              , 'yardline_100'\n",
    "              , 'season_type', 'posteam_type'\n",
    "              , 'down', 'goal_to_go', 'ydstogo'\n",
    "              , 'ydsnet', 'yards_gained', 'shotgun', 'no_huddle'\n",
    "              , 'pass', 'rush', 'first_down'\n",
    "              , 'posteam_score', 'defteam_score', 'score_differential'\n",
    "              , 'game_date', 'home_team', 'away_team'\n",
    "              , 'total_home_score', 'total_away_score'\n",
    "              , 'home_timeouts_remaining', 'away_timeouts_remaining'\n",
    "              , 'penalty_team', 'penalty_yards', 'penalty_type', 'penalty'\n",
    "              , 'air_yards', 'yards_after_catch', 'incomplete_pass', 'complete_pass', 'passing_yards'\n",
    "              , 'rush_attempt', 'pass_attempt', 'sack', 'qb_hit'\n",
    "              , 'touchdown', 'pass_touchdown', 'rush_touchdown', 'field_goal_attempt'\n",
    "              , 'interception', 'fumble_forced', 'fumble_not_forced', 'fumble']\n",
    "\n",
    "sub_plays = plays.loc[(plays['play_deleted'] == 0) & (plays['play_type'].notna()), fields]"
   ]
  },
  {
   "cell_type": "markdown",
   "metadata": {},
   "source": [
    "Next I want to create a series of play sequence IDs. I want to know the following: \n",
    "\n",
    "* play_seq_game: How many plays have been run in the game (excluding kickoffs, penalties, timeouts)\n",
    "* play_seq_drive: What number play is this in this drive \n",
    "* play_seq_posteam: What number of play is this for the posessing team \n",
    "* pass_seq_posteam: \n",
    "* rush_seq_posteam: \n",
    "* shot_seq_posteam: \n",
    "* lead_seq_posteam: \n",
    "* fd_seq_posteam: \n"
   ]
  },
  {
   "cell_type": "code",
   "execution_count": 80,
   "metadata": {},
   "outputs": [],
   "source": [
    "excl_pt = ['kickoff', 'no_play', 'extra_point', 'qb_kneel', 'qb_spike']\n",
    "\n",
    "seq_config = {\n",
    "    'play_seq_game': {\n",
    "        'filters': lambda x: x['play_type'] not in excl_pt\n",
    "        , 'sort_col': ['game_id', 'game_half', 'game_seconds_remaining']\n",
    "        , 'sort_orders': [True, True, False]\n",
    "        , 'grouper': ['game_id']\n",
    "    }\n",
    "    , 'play_seq_drive': {\n",
    "        'filters': lambda x: x['play_type'] not in excl_pt\n",
    "        ,'sort_col': ['game_id', 'game_half', 'game_seconds_remaining'] \n",
    "        ,'sort_orders': [True, True, False] \n",
    "        ,'grouper': ['game_id', 'drive']\n",
    "    } \n",
    "    , 'play_seq_posteam': {\n",
    "        'filters': lambda x: (x['play_type'] not in excl_pt)\n",
    "        ,'sort_col': ['game_id', 'game_half', 'game_seconds_remaining'] \n",
    "        ,'sort_orders': [True, True, False] \n",
    "        ,'grouper': ['game_id', 'posteam']\n",
    "    }\n",
    "    , 'pass_seq_posteam': {\n",
    "        'filters': lambda x: (x['play_type'] not in excl_pt) & (x['pass'] == 1)\n",
    "        ,'sort_col': ['game_id', 'game_half', 'game_seconds_remaining'] \n",
    "        ,'sort_orders': [True, True, False] \n",
    "        ,'grouper': ['game_id', 'posteam']\n",
    "    }\n",
    "    , 'rush_seq_posteam': {\n",
    "        'filters': lambda x: (x['play_type'] not in excl_pt) & (x['rush'] == 1)\n",
    "        ,'sort_col': ['game_id', 'game_half', 'game_seconds_remaining'] \n",
    "        ,'sort_orders': [True, True, False] \n",
    "        ,'grouper': ['game_id', 'posteam']\n",
    "    }\n",
    "    , 'shot_seq_posteam': {\n",
    "        'filters': lambda x: (x['play_type'] not in excl_pt) & (x['shotgun'] == 1)\n",
    "        ,'sort_col': ['game_id', 'game_half', 'game_seconds_remaining'] \n",
    "        ,'sort_orders': [True, True, False] \n",
    "        ,'grouper': ['game_id', 'posteam']\n",
    "    }\n",
    "    , 'lead_seq_posteam': {\n",
    "        'filters': lambda x: (x['play_type'] not in excl_pt) & (x['score_differential'] > 0)\n",
    "        ,'sort_col': ['game_id', 'game_half', 'game_seconds_remaining'] \n",
    "        ,'sort_orders': [True, True, False] \n",
    "        ,'grouper': ['game_id', 'posteam']\n",
    "    }\n",
    "    , 'fd_seq_posteam': {\n",
    "        'filters': lambda x: (x['play_type'] not in excl_pt) & (x['first_down'] == 1)\n",
    "        ,'sort_col': ['game_id', 'game_half', 'game_seconds_remaining'] \n",
    "        ,'sort_orders': [True, True, False] \n",
    "        ,'grouper': ['game_id', 'posteam']\n",
    "    }\n",
    "    , 'sacked_seq_posteam': {\n",
    "        'filters': lambda x: (x['play_type'] not in excl_pt) & (x['sack'] == 1)\n",
    "        ,'sort_col': ['game_id', 'game_half', 'game_seconds_remaining'] \n",
    "        ,'sort_orders': [True, True, False] \n",
    "        ,'grouper': ['game_id', 'posteam']\n",
    "    }\n",
    "    , 'fumble_seq_posteam': {\n",
    "        'filters': lambda x: (x['play_type'] not in excl_pt) & (x['fumble'] == 1)\n",
    "        ,'sort_col': ['game_id', 'game_half', 'game_seconds_remaining'] \n",
    "        ,'sort_orders': [True, True, False] \n",
    "        ,'grouper': ['game_id', 'posteam']\n",
    "    }\n",
    "    , 'int_seq_posteam': {\n",
    "        'filters': lambda x: (x['play_type'] not in excl_pt) & (x['interception'] == 1)\n",
    "        ,'sort_col': ['game_id', 'game_half', 'game_seconds_remaining'] \n",
    "        ,'sort_orders': [True, True, False] \n",
    "        ,'grouper': ['game_id', 'posteam']\n",
    "    }\n",
    "}\n",
    "\n",
    "join_col = ['game_id', 'game_half', 'game_seconds_remaining', 'play_id', 'drive']\n",
    "\n",
    "old_keys = []\n",
    "\n",
    "for key, sub in seq_config.items(): \n",
    "    if key in sub_plays.columns: \n",
    "        print(f'{key} already exists')\n",
    "        continue\n",
    "    \n",
    "    df = sub_plays[sub_plays.apply(sub['filters'], axis = 1)].drop(columns = old_keys)\n",
    "\n",
    "    df_sorted = df.sort_values(sub['sort_col']\n",
    "                               , ascending = sub['sort_orders'])\n",
    "    \n",
    "    df_sorted[key] = df_sorted.groupby(sub['grouper']).cumcount() + 1\n",
    "\n",
    "    keepers = join_col + [key]\n",
    "\n",
    "    right = df_sorted.loc[:,keepers]\n",
    "\n",
    "    sub_plays = sub_plays.merge(right\n",
    "                                , on = join_col\n",
    "                                , how = 'left')\n",
    "    \n",
    "    old_keys = old_keys + [key]"
   ]
  },
  {
   "cell_type": "code",
   "execution_count": 88,
   "metadata": {},
   "outputs": [
    {
     "name": "stdout",
     "output_type": "stream",
     "text": [
      "pass_seq_posteam_shift\n",
      "rush_seq_posteam_shift\n",
      "shot_seq_posteam_shift\n",
      "lead_seq_posteam_shift\n",
      "fd_seq_posteam_shift\n",
      "sacked_seq_posteam_shift\n",
      "fumble_seq_posteam_shift\n",
      "int_seq_posteam_shift\n"
     ]
    }
   ],
   "source": [
    "seq_fix = ['pass_seq_posteam', 'rush_seq_posteam', 'shot_seq_posteam'\n",
    "           , 'lead_seq_posteam', 'fd_seq_posteam', 'sacked_seq_posteam'\n",
    "           , 'fumble_seq_posteam', 'int_seq_posteam']\n",
    "\n",
    "for col in seq_fix: \n",
    "    print(f'{col}_shift')\n",
    "    sub_plays[f'{col}_shift'] = (\n",
    "    sub_plays.groupby(['game_id', 'posteam'], group_keys = False)[col]\n",
    "        .apply(lambda group: group.ffill().fillna(0).shift(1).fillna(0))\n",
    "        )\n",
    "    \n",
    "sub_plays['last_play'] = (\n",
    "    sub_plays.loc[~sub_plays['play_type'].isin(excl_pt), ['game_id', 'posteam', 'play_type']]\n",
    "    .groupby(['game_id', 'posteam'])['play_type']\n",
    "    .shift(1)\n",
    ")"
   ]
  }
 ],
 "metadata": {
  "kernelspec": {
   "display_name": "Python 3",
   "language": "python",
   "name": "python3"
  },
  "language_info": {
   "codemirror_mode": {
    "name": "ipython",
    "version": 3
   },
   "file_extension": ".py",
   "mimetype": "text/x-python",
   "name": "python",
   "nbconvert_exporter": "python",
   "pygments_lexer": "ipython3",
   "version": "3.12.8"
  }
 },
 "nbformat": 4,
 "nbformat_minor": 2
}
